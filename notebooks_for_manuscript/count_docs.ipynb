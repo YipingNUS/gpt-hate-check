{
 "cells": [
  {
   "cell_type": "markdown",
   "id": "9e868363-5207-4177-8bfa-604a9fd88b87",
   "metadata": {},
   "source": [
    "Producing numbers for table `{tab:dataset-stats}`"
   ]
  },
  {
   "cell_type": "code",
   "execution_count": 1,
   "id": "acc64d99-9646-48b8-b4c1-a1ce1f41aec2",
   "metadata": {},
   "outputs": [],
   "source": [
    "import pandas as pd"
   ]
  },
  {
   "cell_type": "markdown",
   "id": "2729771a-54ba-4397-8268-1ff4d88622c0",
   "metadata": {},
   "source": [
    "## HateCheck Dataset"
   ]
  },
  {
   "cell_type": "code",
   "execution_count": 3,
   "id": "35c1e6d6-aff9-4c3f-9ac8-2c6db10f9f02",
   "metadata": {},
   "outputs": [],
   "source": [
    "df = pd.read_csv(\"../gpt-hate-check/datasets/hatecheck-data/test_suite_cases.csv\")"
   ]
  },
  {
   "cell_type": "code",
   "execution_count": 7,
   "id": "c231c599-d6b1-4767-ba7d-4864c74271d5",
   "metadata": {},
   "outputs": [],
   "source": [
    "df.fillna({\"target_ident\":\"None\"}, inplace=True)"
   ]
  },
  {
   "cell_type": "code",
   "execution_count": 8,
   "id": "16680879-d95e-47e1-929a-a342d8cc0ff6",
   "metadata": {},
   "outputs": [
    {
     "data": {
      "text/html": [
       "<div>\n",
       "<style scoped>\n",
       "    .dataframe tbody tr th:only-of-type {\n",
       "        vertical-align: middle;\n",
       "    }\n",
       "\n",
       "    .dataframe tbody tr th {\n",
       "        vertical-align: top;\n",
       "    }\n",
       "\n",
       "    .dataframe thead th {\n",
       "        text-align: right;\n",
       "    }\n",
       "</style>\n",
       "<table border=\"1\" class=\"dataframe\">\n",
       "  <thead>\n",
       "    <tr style=\"text-align: right;\">\n",
       "      <th></th>\n",
       "      <th>Unnamed: 0</th>\n",
       "      <th>functionality</th>\n",
       "      <th>case_id</th>\n",
       "      <th>test_case</th>\n",
       "      <th>label_gold</th>\n",
       "      <th>direction</th>\n",
       "      <th>focus_words</th>\n",
       "      <th>focus_lemma</th>\n",
       "      <th>ref_case_id</th>\n",
       "      <th>ref_templ_id</th>\n",
       "      <th>templ_id</th>\n",
       "      <th>case_templ</th>\n",
       "    </tr>\n",
       "    <tr>\n",
       "      <th>target_ident</th>\n",
       "      <th></th>\n",
       "      <th></th>\n",
       "      <th></th>\n",
       "      <th></th>\n",
       "      <th></th>\n",
       "      <th></th>\n",
       "      <th></th>\n",
       "      <th></th>\n",
       "      <th></th>\n",
       "      <th></th>\n",
       "      <th></th>\n",
       "      <th></th>\n",
       "    </tr>\n",
       "  </thead>\n",
       "  <tbody>\n",
       "    <tr>\n",
       "      <th>Muslims</th>\n",
       "      <td>484</td>\n",
       "      <td>484</td>\n",
       "      <td>484</td>\n",
       "      <td>484</td>\n",
       "      <td>484</td>\n",
       "      <td>484</td>\n",
       "      <td>484</td>\n",
       "      <td>484</td>\n",
       "      <td>297</td>\n",
       "      <td>297</td>\n",
       "      <td>484</td>\n",
       "      <td>484</td>\n",
       "    </tr>\n",
       "    <tr>\n",
       "      <th>None</th>\n",
       "      <td>292</td>\n",
       "      <td>292</td>\n",
       "      <td>292</td>\n",
       "      <td>292</td>\n",
       "      <td>292</td>\n",
       "      <td>292</td>\n",
       "      <td>292</td>\n",
       "      <td>292</td>\n",
       "      <td>0</td>\n",
       "      <td>292</td>\n",
       "      <td>292</td>\n",
       "      <td>292</td>\n",
       "    </tr>\n",
       "    <tr>\n",
       "      <th>black people</th>\n",
       "      <td>482</td>\n",
       "      <td>482</td>\n",
       "      <td>482</td>\n",
       "      <td>482</td>\n",
       "      <td>482</td>\n",
       "      <td>482</td>\n",
       "      <td>482</td>\n",
       "      <td>482</td>\n",
       "      <td>286</td>\n",
       "      <td>286</td>\n",
       "      <td>482</td>\n",
       "      <td>482</td>\n",
       "    </tr>\n",
       "    <tr>\n",
       "      <th>disabled people</th>\n",
       "      <td>484</td>\n",
       "      <td>484</td>\n",
       "      <td>484</td>\n",
       "      <td>484</td>\n",
       "      <td>484</td>\n",
       "      <td>484</td>\n",
       "      <td>484</td>\n",
       "      <td>484</td>\n",
       "      <td>297</td>\n",
       "      <td>297</td>\n",
       "      <td>484</td>\n",
       "      <td>484</td>\n",
       "    </tr>\n",
       "    <tr>\n",
       "      <th>gay people</th>\n",
       "      <td>551</td>\n",
       "      <td>551</td>\n",
       "      <td>551</td>\n",
       "      <td>551</td>\n",
       "      <td>551</td>\n",
       "      <td>551</td>\n",
       "      <td>551</td>\n",
       "      <td>551</td>\n",
       "      <td>297</td>\n",
       "      <td>297</td>\n",
       "      <td>551</td>\n",
       "      <td>551</td>\n",
       "    </tr>\n",
       "    <tr>\n",
       "      <th>immigrants</th>\n",
       "      <td>463</td>\n",
       "      <td>463</td>\n",
       "      <td>463</td>\n",
       "      <td>463</td>\n",
       "      <td>463</td>\n",
       "      <td>463</td>\n",
       "      <td>463</td>\n",
       "      <td>463</td>\n",
       "      <td>286</td>\n",
       "      <td>286</td>\n",
       "      <td>463</td>\n",
       "      <td>463</td>\n",
       "    </tr>\n",
       "    <tr>\n",
       "      <th>trans people</th>\n",
       "      <td>463</td>\n",
       "      <td>463</td>\n",
       "      <td>463</td>\n",
       "      <td>463</td>\n",
       "      <td>463</td>\n",
       "      <td>463</td>\n",
       "      <td>463</td>\n",
       "      <td>463</td>\n",
       "      <td>286</td>\n",
       "      <td>286</td>\n",
       "      <td>463</td>\n",
       "      <td>463</td>\n",
       "    </tr>\n",
       "    <tr>\n",
       "      <th>women</th>\n",
       "      <td>509</td>\n",
       "      <td>509</td>\n",
       "      <td>509</td>\n",
       "      <td>509</td>\n",
       "      <td>509</td>\n",
       "      <td>509</td>\n",
       "      <td>509</td>\n",
       "      <td>509</td>\n",
       "      <td>297</td>\n",
       "      <td>297</td>\n",
       "      <td>509</td>\n",
       "      <td>509</td>\n",
       "    </tr>\n",
       "  </tbody>\n",
       "</table>\n",
       "</div>"
      ],
      "text/plain": [
       "                 Unnamed: 0  functionality  case_id  test_case  label_gold  \\\n",
       "target_ident                                                                 \n",
       "Muslims                 484            484      484        484         484   \n",
       "None                    292            292      292        292         292   \n",
       "black people            482            482      482        482         482   \n",
       "disabled people         484            484      484        484         484   \n",
       "gay people              551            551      551        551         551   \n",
       "immigrants              463            463      463        463         463   \n",
       "trans people            463            463      463        463         463   \n",
       "women                   509            509      509        509         509   \n",
       "\n",
       "                 direction  focus_words  focus_lemma  ref_case_id  \\\n",
       "target_ident                                                        \n",
       "Muslims                484          484          484          297   \n",
       "None                   292          292          292            0   \n",
       "black people           482          482          482          286   \n",
       "disabled people        484          484          484          297   \n",
       "gay people             551          551          551          297   \n",
       "immigrants             463          463          463          286   \n",
       "trans people           463          463          463          286   \n",
       "women                  509          509          509          297   \n",
       "\n",
       "                 ref_templ_id  templ_id  case_templ  \n",
       "target_ident                                         \n",
       "Muslims                   297       484         484  \n",
       "None                      292       292         292  \n",
       "black people              286       482         482  \n",
       "disabled people           297       484         484  \n",
       "gay people                297       551         551  \n",
       "immigrants                286       463         463  \n",
       "trans people              286       463         463  \n",
       "women                     297       509         509  "
      ]
     },
     "execution_count": 8,
     "metadata": {},
     "output_type": "execute_result"
    }
   ],
   "source": [
    "df.groupby(\"target_ident\").count()"
   ]
  },
  {
   "cell_type": "markdown",
   "id": "31e1f2a4-1c66-4f2c-bc6e-b2c7d5fc1c60",
   "metadata": {},
   "source": [
    "## GPT-HateCheck Dataset"
   ]
  },
  {
   "cell_type": "code",
   "execution_count": 10,
   "id": "2a2c63be-7ec7-4cae-b7f3-40280ad97db0",
   "metadata": {},
   "outputs": [],
   "source": [
    "from pathlib import Path"
   ]
  },
  {
   "cell_type": "code",
   "execution_count": 35,
   "id": "3669629d-c4bd-4221-9c9a-c1e56a215a78",
   "metadata": {},
   "outputs": [],
   "source": [
    "# TODO change me\n",
    "target_group = \"immigrants\" # \"women\", \"\n",
    "\n",
    "data_path = Path(\"../nli_hypothesis_test/output/\")"
   ]
  },
  {
   "cell_type": "code",
   "execution_count": 36,
   "id": "ec8dbbf4-2aa4-411f-ae11-3dddaeb7b4d4",
   "metadata": {},
   "outputs": [],
   "source": [
    "df = pd.read_csv(data_path/f\"dataset_{target_group}.csv\")"
   ]
  },
  {
   "cell_type": "code",
   "execution_count": 37,
   "id": "8de5fdf9-6b04-4219-a1b3-a238c549f05a",
   "metadata": {},
   "outputs": [
    {
     "name": "stdout",
     "output_type": "stream",
     "text": [
      "total: 829; passing validation: 684\n"
     ]
    }
   ],
   "source": [
    "print(f\"total: {len(df)}; passing validation: {len(df[df['nli_pass_test']==1])}\")"
   ]
  },
  {
   "cell_type": "code",
   "execution_count": 44,
   "id": "e2482243-dddb-4076-995c-c560905743f0",
   "metadata": {},
   "outputs": [],
   "source": [
    "target_group = \"black people\"\n",
    "\n",
    "data_path = Path(\"../nli_hypothesis_test/output/\")\n",
    "\n",
    "excluded_functionalities = [\n",
    "    \"F11: Non-hateful use of profanity\",\n",
    "    \"F22: Abuse targeted at objects\",\n",
    "    \"F23: Abuse targeted at individuals (not as member of a prot. group)\",\n",
    "    \"F24: Abuse targeted at non-protected groups (e.g. professions)\"\n",
    "]"
   ]
  },
  {
   "cell_type": "code",
   "execution_count": 45,
   "id": "c3fbb4df-7526-42e9-ad7a-ff695b98611b",
   "metadata": {},
   "outputs": [],
   "source": [
    "df = pd.read_csv(data_path/f\"dataset_{target_group}.csv\")"
   ]
  },
  {
   "cell_type": "code",
   "execution_count": 49,
   "id": "88d9d32f-73a0-46a3-9592-557a2fc8bfe4",
   "metadata": {},
   "outputs": [
    {
     "data": {
      "text/plain": [
       "((812, 36), (156, 36))"
      ]
     },
     "execution_count": 49,
     "metadata": {},
     "output_type": "execute_result"
    }
   ],
   "source": [
    "df_black = df[~df['functionality'].isin(excluded_functionalities)]\n",
    "df_non = df[df['functionality'].isin(excluded_functionalities)]\n",
    "df_black.shape, df_non.shape"
   ]
  },
  {
   "cell_type": "code",
   "execution_count": 50,
   "id": "43c0d541-5faa-41a6-9bf2-8e5bb1db3743",
   "metadata": {},
   "outputs": [
    {
     "name": "stdout",
     "output_type": "stream",
     "text": [
      "total: 812; passing validation: 741\n"
     ]
    }
   ],
   "source": [
    "print(f\"total: {len(df_black)}; passing validation: {len(df_black[df_black['nli_pass_test']==1])}\")"
   ]
  },
  {
   "cell_type": "code",
   "execution_count": 51,
   "id": "fdb71652-c6fd-49d3-99cb-1d48a6b182e3",
   "metadata": {},
   "outputs": [
    {
     "name": "stdout",
     "output_type": "stream",
     "text": [
      "total: 156; passing validation: 133\n"
     ]
    }
   ],
   "source": [
    "print(f\"total: {len(df_non)}; passing validation: {len(df_non[df_non['nli_pass_test']==1])}\")"
   ]
  },
  {
   "cell_type": "code",
   "execution_count": 52,
   "id": "f6158457-454c-4f96-8316-8cf8f98ded62",
   "metadata": {},
   "outputs": [],
   "source": []
  },
  {
   "cell_type": "code",
   "execution_count": null,
   "id": "d8b02b9f-77ed-4203-83d2-e11b0e94309d",
   "metadata": {},
   "outputs": [],
   "source": []
  }
 ],
 "metadata": {
  "kernelspec": {
   "display_name": "Python 3 (ipykernel)",
   "language": "python",
   "name": "python3"
  },
  "language_info": {
   "codemirror_mode": {
    "name": "ipython",
    "version": 3
   },
   "file_extension": ".py",
   "mimetype": "text/x-python",
   "name": "python",
   "nbconvert_exporter": "python",
   "pygments_lexer": "ipython3",
   "version": "3.8.3"
  }
 },
 "nbformat": 4,
 "nbformat_minor": 5
}
