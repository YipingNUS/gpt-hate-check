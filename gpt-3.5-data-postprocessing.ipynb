{
 "cells": [
  {
   "cell_type": "code",
   "execution_count": null,
   "id": "79dde412",
   "metadata": {},
   "outputs": [],
   "source": [
    "import ast\n",
    "import pandas as pd\n",
    "from pathlib import Path\n",
    "pd.set_option('display.max_colwidth', None)"
   ]
  },
  {
   "cell_type": "code",
   "execution_count": null,
   "id": "f8f01eb9",
   "metadata": {},
   "outputs": [],
   "source": [
    "# TODO: change me\n",
    "identity = \"disabled people\"  # Options: \"women\", \"Muslims\", \"immigrants\", \"gays\", \"trans\", \"disabled people\""
   ]
  },
  {
   "cell_type": "code",
   "execution_count": null,
   "id": "62de51b8",
   "metadata": {},
   "outputs": [],
   "source": [
    "dataset_path = Path(\"datasets/gpt3.5-generated/\")\n",
    "functionality_csv_file = dataset_path/\"functionalities.csv\"\n",
    "functionality_output_file = dataset_path/f\"functionalities_{identity}.csv\"\n",
    "raw_json_file = dataset_path/f\"gpt3.5_generated_hs_dataset_{identity}.json\"\n",
    "processed_dataset_file = dataset_path/f\"dataset_{identity}.csv\"\n",
    "print(f\"raw_json_file: {raw_json_file}\")\n",
    "print(f\"processed_dataset_file: {processed_dataset_file}\")\n",
    "print(f\"functionality-prompt mapping:{functionality_output_file}\")"
   ]
  },
  {
   "cell_type": "code",
   "execution_count": null,
   "id": "8533e239",
   "metadata": {},
   "outputs": [],
   "source": [
    "# Functionalities independent from identity\n",
    "independent_functionalities = [\n",
    "    \"F11: Non-hateful use of profanity\",\n",
    "    \"F22: Abuse targeted at objects\",\n",
    "    \"F23: Abuse targeted at individuals (not as member of a prot. group)\",\n",
    "    \"F24: Abuse targeted at non-protected groups (e.g. professions)\"\n",
    "]"
   ]
  },
  {
   "cell_type": "markdown",
   "id": "739f117a",
   "metadata": {},
   "source": [
    "## 1. Post-process the generated data"
   ]
  },
  {
   "cell_type": "code",
   "execution_count": null,
   "id": "02326854",
   "metadata": {},
   "outputs": [],
   "source": [
    "# load the dataset from file\n",
    "import ast\n",
    "with open(raw_json_file, \"r\") as f:\n",
    "    data_str = f.read()\n",
    "    data_dict = ast.literal_eval(data_str)\n",
    "    \n",
    "df_dataset = pd.DataFrame(data_dict)\n",
    "df_dataset.shape"
   ]
  },
  {
   "cell_type": "code",
   "execution_count": null,
   "id": "d38c76c6",
   "metadata": {},
   "outputs": [],
   "source": [
    "df_functionalities = pd.read_csv(functionality_csv_file)"
   ]
  },
  {
   "cell_type": "code",
   "execution_count": null,
   "id": "b36206b9",
   "metadata": {},
   "outputs": [],
   "source": [
    "if identity != \"black people\":\n",
    "    df_functionalities = df_functionalities[~df_functionalities['functionality'].isin(independent_functionalities)]\n",
    "    print(f\"Totoal {len(df_functionalities)} functionalities\")"
   ]
  },
  {
   "cell_type": "code",
   "execution_count": null,
   "id": "24cd7ac3",
   "metadata": {},
   "outputs": [],
   "source": [
    "assert len(df_functionalities.functionality.tolist()) == len(df_dataset.prompt.unique().tolist())\n",
    "func2prompt = dict(zip(df_functionalities.functionality.tolist(), df_dataset.prompt.unique().tolist()))\n",
    "func2prompt"
   ]
  },
  {
   "cell_type": "code",
   "execution_count": null,
   "id": "6202b470",
   "metadata": {},
   "outputs": [],
   "source": [
    "df_functionalities['prompt'] = df_functionalities.apply(lambda x: func2prompt[x['functionality']], axis=1)"
   ]
  },
  {
   "cell_type": "code",
   "execution_count": null,
   "id": "d97568e7",
   "metadata": {},
   "outputs": [],
   "source": [
    "df_final = pd.merge(df_dataset, df_functionalities, on=\"prompt\", how=\"inner\")\n",
    "df_final = df_final.drop(columns=['prompt'])\n",
    "assert len(df_dataset) == len(df_final)"
   ]
  },
  {
   "cell_type": "code",
   "execution_count": null,
   "id": "37cc1d41",
   "metadata": {},
   "outputs": [],
   "source": [
    "print(f\"Before dropping duplicates {len(df_final)} entries.\")\n",
    "df_final.drop_duplicates(subset=[\"message\"], keep='first', inplace=True, ignore_index=True)\n",
    "print(f\"After dropping duplicates {len(df_final)} entries.\")"
   ]
  },
  {
   "cell_type": "code",
   "execution_count": null,
   "id": "dc93db9c",
   "metadata": {},
   "outputs": [],
   "source": [
    "df_final.to_csv(processed_dataset_file, index=False, encoding=\"utf-8\")\n",
    "df_functionalities.to_csv(functionality_output_file, index=False, encoding=\"utf-8\")"
   ]
  },
  {
   "cell_type": "markdown",
   "id": "fc3b7c09",
   "metadata": {},
   "source": [
    "### 1.1 Data Exploration"
   ]
  },
  {
   "cell_type": "code",
   "execution_count": null,
   "id": "ec5f2106",
   "metadata": {},
   "outputs": [],
   "source": [
    "df = pd.read_csv(processed_dataset_file, encoding=\"utf-8\", low_memory=False)"
   ]
  },
  {
   "cell_type": "code",
   "execution_count": null,
   "id": "402f3fd5",
   "metadata": {},
   "outputs": [],
   "source": [
    "df.groupby(\"functionality\").count().reset_index()"
   ]
  },
  {
   "cell_type": "code",
   "execution_count": null,
   "id": "5c657f63",
   "metadata": {},
   "outputs": [],
   "source": [
    "# select the first example for all test cases\n",
    "df_sample = df.iloc[range(3,len(df),40)]\n",
    "df_sample"
   ]
  }
 ],
 "metadata": {
  "kernelspec": {
   "display_name": "Python 3 (ipykernel)",
   "language": "python",
   "name": "python3"
  },
  "language_info": {
   "codemirror_mode": {
    "name": "ipython",
    "version": 3
   },
   "file_extension": ".py",
   "mimetype": "text/x-python",
   "name": "python",
   "nbconvert_exporter": "python",
   "pygments_lexer": "ipython3",
   "version": "3.8.3"
  }
 },
 "nbformat": 4,
 "nbformat_minor": 5
}
